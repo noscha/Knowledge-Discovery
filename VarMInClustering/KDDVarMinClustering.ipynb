{
 "cells": [
  {
   "cell_type": "markdown",
   "metadata": {},
   "source": [
    "# Clustering durch Varianzminimierung\n",
    "Implementieren Sie den Algorithmus *Clustering durch Varianzminimierung* innerhalb des jupyter-Notebooks. Nutzen Sie dafür das gegebene Grundgerüst und beachten Sie die folgenden Anforderungen:\n",
    "- Die initiale Clusterung soll auf folgende Art geschehen: Die ersten $k$ Elemente des Datensatzes werden auf die $k$ Cluster verteilt.\n",
    "Die restlichen Datenpunkte sollen zufällig den Clustern zugeordnet werden. Dann werden die initialen Zentroide berechnet.\n",
    "- Als Distanzfunktion nutzen Sie bitte die Manhattan-Distanz.\n",
    "- In jedem Iterationsschritt soll der Algorithmus über alle Instanzen gehen und jede Instanz dem nächsten Centroid zuweisen. Nachdem alle Instanzen zugeordnet wurden, sollen die Zentroide neu berechnet werden.\n",
    "- Es gibt zwei Abbruchbedingungen:\n",
    "    1. Eine maximale Anzahl von Iterationen darf nicht überschritten werden.\n",
    "    2. Unterschreitet die Änderung des Wertes\n",
    "        $${TD}^2(\\mathcal{C}) := \\sum_{i=1}^{k}{{TD}^2(C_i)} \\quad\\text{mit}\\quad {TD}^2(C_i) = \\sum_{p \\in C_i}{{dist}^2(p, \\mu_{C_i})}$$\n",
    "    zwischen zwei Iterationen ein gegebenes Minimum, dann wird keine neue Iteration mehr durchgeführt.\n",
    "    \n",
    "  Die entsprechenden Grenzen werden als Parameter übergeben. Der Wert ${TD}^2(\\mathcal{C})$ misst den Abstand aller Punkte zu ihren jeweiligen Centroiden $\\mu_{C_i}$ und ist ein Maß für die Kompaktheit des Clusterings.\n",
    "- Die Modellierung der Centroide erfolgt in der Klasse *Cluster* als Liste numerischer Werte.\n",
    "- Die Klassen können um weitere Methoden ergänzt werden.\n",
    "- Sie dürfen die Pakete numpy und random für Ihre Implementierung nutzen. Außerdem werden für die Tests die Pakete pandas und matplotlib genutzt. Verwenden Sie keine weiteren Pakete für Ihre Implementierung.\n",
    "- Beim Test auf einem geeigneten Datensatz soll ein sinnvolles Clustering entstehen.\n",
    "- Mit Hilfe des *print*-Kommandos werden Zwischenergebnisse jeder Clustering-Iteration sinnvoll geloggt.\n",
    "- Ihr Programmcode sollte sinnvoll kommentiert sein und sinnvolle Variablennamen verwenden.\n",
    "- *Hinweis*: Stellen Sie sicher, dass der Algorithmus bei jeder Ausführung ohne Fehler funktioniert. Überlegen Sie sich, warum das nur unter Berücksichtigung des Grundalgorithmus aus der Vorlesung auch mit den selben Parameterwerten nicht jedes mal der Fall sein muss und wie Sie dagegen vorgehen können.\n",
    "- Ihre Implementierung können Sie bis zum 17.11.2023 23:59 im Moodle abgeben.\n",
    "Sollten Sie Fragen zu den Aufgaben haben, wenden Sie sich bitte persönlich oder per E-Mail an [Tobias Hille](mailto:hille@cs.uni-kassel.de).\n",
    "\n",
    "## Zusatzaufgabe für 6 ECTS:\n",
    "**Hinweis**: Bearbeiten Sie diese Aufgabe nur, falls Sie am Praktikum für 6 ECTS-Punkte teilnehmen, jedoch nicht, falls Sie am Praktikum für 3 ECTS-Punkte teilnehmen.\n",
    "\n",
    "Das Ziel des folgenden Algorithmus ist es, das Clustering durch Varianzminimierung zu verbessern, indem bessere Startcluster gewählt werden. Der Algorithmus geht dabei wie folgt vor:\n",
    "1. Es wird ein Datenpunkt zufällig (gleichverteilt) als erster Zentrumspunkt gewählt.\n",
    "2. Für jeden Datenpunkt $x$, welcher noch kein Zentroid ist, wird $D(x)$ als die Distanz zwischen x und dem nähesten Zentrumspunkt zu $x$ berechnet.\n",
    "3. Es wird ein weiterer Zentrumspunkt mit einer gewichteten Wahrscheinlickeitsverteilung gewählt, wobei der Punkt $x$ mit einer Wahrscheinlichkeit proportional zu $D(x)^2$ gewählt wird.\n",
    "4. Die Schritte 2 und 3 werden wiederholt, bis $k$ Zentrumspunkte gewählt wurden.\n",
    "5. Mit den $k$ Zentrumspunkte als Startpunkten wird dann ein Clustering durch Varianzminimierung durchgeführt.\n",
    "\n",
    "Modifizieren Sie Ihren Code so, dass beim Aufruf durch einen Parameter **init** ausgewählt werden kann, ob der optimierte Initialisierungsalgorithmus verwendet werden soll.\n",
    "\n",
    "## Tipps:\n",
    "- Zum Debugging kann es hilfreich sein, sich während der Implementierung einzelne Variablenwerte ausgeben zu lassen, insbesondere wenn Sie sich nicht sicher sind, welchen Variablentypen oder Wert Ihre Variable hat oder wenn für Sie unerklärliche Fehler auftreten. Entweder verwenden Sie zur Ausgabe einfach das *print*-Kommando oder erstellen eine Zelle, in die Sie den Variablennamen als letzte Anweisung schreiben und ausführen.\n",
    "- Neben dem Ausprobieren verschiedener Parameterwerte um ein besseres Verständnis für den Algorithmus zu bekommen, kann es auch sinnvoll sein, Ihre Implementierung mehrfach mit den selben Werten auszuführen.\n",
    "- Sie können (müssen aber nicht) einfache numpy-Operationen verwenden. Vektoren als Methodenparameter, Rückgabewerte oder Klasseneigenschaften sollen aber als normale Python-Listen dargestellt werden, *nicht* als numpy-Arrays. Aus dem Code und bei der Vorstellung Ihrer Implementierung sollte außerdem ersichtlich sein, dass Sie selbst die Berechnungen per Hand durchführen könnten. Dies gilt insbesondere für das Distanzmaß. \n",
    "- Jeglicher Python-Code im Jupyter-Notebook wird in der Reihenfolge ausgeführt, in der die Zellen ausgeführt wurden. Alle zugewiesenen Namen (z. Bsp. für Variablen, Funktionen und Klassen) bleiben im Speicher erhalten, sofern Sie nicht überschrieben wurden. Um einen *frischen* Zustand zu erhalten, in dem noch kein Code ausgeführt wurde, gehen Sie auf *Kernel -> Restart & Clear Output*. Falls für Sie unerklärliche Fehler auftreten oder Fehler, die Sie glauben schon behoben zu haben, kann ein Kernel Restart oft Erkenntnisse liefern. In vielen Fällen greifen Sie noch auf Programmcode zu, den Sie bereits aus den Zellen gelöscht haben. Stellen Sie vor der Abgabe sicher, dass Ihr Notebook auch in der Reihenfolge der Zellen von oben nach unten ohne Fehler durchläuft (Kernel -> Restart & Run All)."
   ]
  },
  {
   "cell_type": "markdown",
   "metadata": {},
   "source": [
    "# Implementierung"
   ]
  },
  {
   "cell_type": "code",
   "execution_count": 1,
   "metadata": {
    "ExecuteTime": {
     "end_time": "2023-11-15T16:04:37.408009500Z",
     "start_time": "2023-11-15T16:04:32.087242800Z"
    }
   },
   "outputs": [],
   "source": [
    "import random\n",
    "\n",
    "import numpy as np\n",
    "import pandas as pd\n",
    "\n",
    "\n",
    "def manhattan_dist(x, y):\n",
    "    \"\"\"Returns the manhattan distance between vectors x and y.\n",
    "    A vector is represented as a list of numeric values.\"\"\"\n",
    "    assert len(x) == len(y)\n",
    "    x, y = np.array(x), np.array(y)\n",
    "    return np.sum(np.abs(x-y))\n",
    "\n",
    "class VarMinClusterer:\n",
    "\n",
    "    def __init__(self, dist_fun=manhattan_dist):\n",
    "        self.dist_fun = dist_fun\n",
    "        self.clusters = []\n",
    "\n",
    "    def cluster(self,\n",
    "                X,\n",
    "                k=3,\n",
    "                max_iterations=20,\n",
    "                min_compactness_diff=0.05,\n",
    "                init=False):\n",
    "        \"\"\"Cluster the given data X.\n",
    "        Takes a list of samples X where each sample is a list of numeric values.\n",
    "        The parameter init determines, whether the optimized initialization procedure\n",
    "        shoud be used. If you are doing the task for 3 ECTS, this parameter should not\n",
    "        affect your code at all.\"\"\"\n",
    "\n",
    "        # Basic parameter validation.\n",
    "        assert len(X) > 0\n",
    "        assert len(X) >= k\n",
    "        assert max_iterations > 0\n",
    "        \n",
    "        # Variables\n",
    "        oldCompactness = 0\n",
    "        iterations = 0\n",
    "        compactness = None\n",
    "        \n",
    "        # Initial assignment\n",
    "        if not init:\n",
    "            \n",
    "            # Random centroid assignment\n",
    "            for i in range(k):\n",
    "                c = Cluster()\n",
    "                c.elements = [X[i]]\n",
    "                self.clusters.append(c) \n",
    "                \n",
    "            # Cluster assignment\n",
    "            for i in X:\n",
    "                self.clusters[random.randrange(k)].elements.append(i)\n",
    "        \n",
    "            # initial Centroid calculation\n",
    "            for cluster in self.clusters: cluster.calculateCentroid()\n",
    "                \n",
    "        else:\n",
    "            \n",
    "            # Enhanced centroid assignment\n",
    "            self.clusters.append(Cluster())\n",
    "            self.clusters[0].centroid = X[random.randrange(k)]\n",
    "            \n",
    "            for i in range(1,k):\n",
    "                dist = [min([self.dist_fun(p,cluster.centroid) for cluster in self.clusters]) for p in X]\n",
    "                self.clusters.append(Cluster())\n",
    "                self.clusters[i].centroid = random.choices(X, cum_weights=[x ** 2 for x in dist], k=1)[0]\n",
    "                \n",
    "            # Cluster assignment\n",
    "            tempCluster = self.clusterAllocation(k, X)\n",
    "            for i in range(k): self.clusters[i].elements = tempCluster[i]\n",
    "            \n",
    "            # initial Centroid calculation\n",
    "            for cluster in self.clusters: cluster.calculateCentroid()\n",
    "        \n",
    "        # initial compactness\n",
    "        compactness = sum(cluster.compactness() for cluster in self.clusters)\n",
    "        \n",
    "        while abs(oldCompactness-compactness) > min_compactness_diff and iterations < max_iterations:\n",
    "            \n",
    "            # new Cluster allocation\n",
    "            tempCluster = self.clusterAllocation(k, X)\n",
    "                    \n",
    "            #Check if no cluster empty\n",
    "            if max(list(map(lambda elements: not elements, tempCluster))):\n",
    "                self.clusters = []\n",
    "                return self.cluster(X, init=init)\n",
    "                \n",
    "            for i in range(k): self.clusters[i].elements = tempCluster[i]\n",
    "            \n",
    "            # new Centroid calculation\n",
    "            for cluster in self.clusters: cluster.calculateCentroid()\n",
    "            \n",
    "            # calculate compactness difference\n",
    "            oldCompactness = compactness\n",
    "            compactness = sum(cluster.compactness() for cluster in self.clusters)\n",
    "            iterations += 1\n",
    "            \n",
    "        return self.clusters\n",
    "    \n",
    "    def clusterAllocation(self, k, X):\n",
    "        \n",
    "        tempCluster = [[] for i in range(k)]\n",
    "            \n",
    "        for p in X:\n",
    "            index = np.array([self.dist_fun(p,cluster.centroid) for cluster in self.clusters]).argmin()\n",
    "            tempCluster[index].append(p)\n",
    "\n",
    "        return tempCluster\n",
    "\n",
    "\n",
    "class Cluster:\n",
    "\n",
    "    def __init__(self):\n",
    "        self.elements = []\n",
    "        self.centroid = []\n",
    "\n",
    "    def compactness(self, dist_fun=manhattan_dist):\n",
    "        return sum((dist_fun(element,self.centroid) ** 2) for element in self.elements)\n",
    "    \n",
    "    def calculateCentroid(self):\n",
    "        self.centroid = np.add.reduce(self.elements) / len(self.elements)\n",
    "        "
   ]
  },
  {
   "cell_type": "markdown",
   "metadata": {},
   "source": [
    "# Ausführung des Clusterings\n",
    "Hier kann der implementierte Algorithmus getestet werden. Bitte an den vorhandenen Zellen nichts ändern. Sie können aber weitere Zellen mit eigenem Code hinzufügen oder andere Parameterwerte ausprobieren (die Sie in der Abgabe dann wieder auf die ursprünglichen Werte ändern).\n",
    "\n",
    "Um den Code auszuführen, müssen die Bibliotheken *pandas*, *matplotlib* und eventuell weitere Abhängigkeiten installiert sein. Diese sind in der Anaconda-Distribution bereits enthalten."
   ]
  },
  {
   "cell_type": "code",
   "execution_count": 2,
   "metadata": {
    "ExecuteTime": {
     "end_time": "2023-11-15T16:04:42.489502900Z",
     "start_time": "2023-11-15T16:04:42.177412100Z"
    }
   },
   "outputs": [],
   "source": [
    "# Load the iris-dataset. Remove the class-attribute.\n",
    "\n",
    "data = pd.read_csv(\"iris.csv\")\n",
    "del data[\"species\"]"
   ]
  },
  {
   "cell_type": "code",
   "execution_count": 3,
   "metadata": {
    "ExecuteTime": {
     "end_time": "2023-11-15T16:04:43.462721300Z",
     "start_time": "2023-11-15T16:04:43.452578600Z"
    }
   },
   "outputs": [],
   "source": [
    "def plot_clustering(clusters, x_dim=0, y_dim=3):\n",
    "    \"\"\"Show a scatterplot of the given clusters and contained data-points.\n",
    "    Points from the same cluster will have the same color.\n",
    "    \"\"\"\n",
    "    import matplotlib.pyplot as plt\n",
    "\n",
    "    plt.figure()\n",
    "    for cluster in clusters:\n",
    "        elems = np.array(cluster.elements)\n",
    "        plt.scatter(elems[:, x_dim], elems[:, y_dim])\n",
    "        ctr = cluster.centroid\n",
    "        plt.plot(ctr[x_dim], ctr[y_dim], \"X\", c=\"black\")\n",
    "    plt.show()"
   ]
  },
  {
   "cell_type": "code",
   "execution_count": 4,
   "metadata": {
    "ExecuteTime": {
     "end_time": "2023-11-15T16:04:47.556329500Z",
     "start_time": "2023-11-15T16:04:44.250370100Z"
    }
   },
   "outputs": [
    {
     "data": {
      "text/plain": "<Figure size 640x480 with 1 Axes>",
      "image/png": "[encoded data removed]"
     },
     "metadata": {},
     "output_type": "display_data"
    }
   ],
   "source": [
    "# Do a clustering with k=3 and plot the result with the optimized initialization routine.\n",
    "# This code should run and (always) show a correct result, once the classes have been implemented.\n",
    "alg = VarMinClusterer()\n",
    "clusters = alg.cluster(data.values.tolist(), k=3, init=True)\n",
    "plot_clustering(clusters)"
   ]
  },
  {
   "cell_type": "code",
   "execution_count": 5,
   "metadata": {
    "ExecuteTime": {
     "end_time": "2023-11-15T16:04:49.327990800Z",
     "start_time": "2023-11-15T16:04:48.922642400Z"
    }
   },
   "outputs": [
    {
     "data": {
      "text/plain": "<Figure size 640x480 with 1 Axes>",
      "image/png": "[encoded data removed]"
     },
     "metadata": {},
     "output_type": "display_data"
    }
   ],
   "source": [
    "# Do a clustering with k=3 and plot the result.\n",
    "# This code should run and (always) show a correct result, once the classes have been implemented.\n",
    "alg = VarMinClusterer()\n",
    "clusters = alg.cluster(data.values.tolist(), k=3, init=False)\n",
    "plot_clustering(clusters)"
   ]
  }
 ],
 "metadata": {
  "kernelspec": {
   "display_name": "Python 3 (ipykernel)",
   "language": "python",
   "name": "python3"
  },
  "language_info": {
   "codemirror_mode": {
    "name": "ipython",
    "version": 3
   },
   "file_extension": ".py",
   "mimetype": "text/x-python",
   "name": "python",
   "nbconvert_exporter": "python",
   "pygments_lexer": "ipython3",
   "version": "3.11.5"
  },
  "vscode": {
   "interpreter": {
    "hash": "7e1998ff7f8aa20ada591c520b972326324e5ea05489af9e422744c7c09f6dad"
   }
  }
 },
 "nbformat": 4,
 "nbformat_minor": 4
}
